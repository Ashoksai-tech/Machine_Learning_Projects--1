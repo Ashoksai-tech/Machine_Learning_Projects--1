{
 "cells": [
  {
   "cell_type": "markdown",
   "id": "1c82d264",
   "metadata": {},
   "source": [
    "# Reverse a string"
   ]
  },
  {
   "cell_type": "code",
   "execution_count": 1,
   "id": "427ae96f",
   "metadata": {},
   "outputs": [
    {
     "name": "stdout",
     "output_type": "stream",
     "text": [
      "olleh\n"
     ]
    }
   ],
   "source": [
    "def rev_string(s):\n",
    "    return s[::-1]\n",
    "\n",
    "s = \"hello\"\n",
    "print(rev_string(s))"
   ]
  },
  {
   "cell_type": "code",
   "execution_count": 5,
   "id": "59ff37f7",
   "metadata": {},
   "outputs": [
    {
     "name": "stdout",
     "output_type": "stream",
     "text": [
      "olleh\n"
     ]
    }
   ],
   "source": [
    "def reverse_string(s):\n",
    "    s_list = list(s)\n",
    "    left, right = 0, len(s)-1\n",
    "    while left < right:\n",
    "        s_list[left], s_list[right] =s_list[right], s_list[left]\n",
    "        left +=1\n",
    "        right -=1\n",
    "    return ''.join(s_list)\n",
    "\n",
    "s = \"hello\"\n",
    "print(reverse_string(s))"
   ]
  },
  {
   "cell_type": "markdown",
   "id": "de1ab12f",
   "metadata": {},
   "source": [
    "# Check if a string is palindrome or not"
   ]
  },
  {
   "cell_type": "code",
   "execution_count": 6,
   "id": "9045f816",
   "metadata": {},
   "outputs": [
    {
     "name": "stdout",
     "output_type": "stream",
     "text": [
      "True\n"
     ]
    }
   ],
   "source": [
    "def palindrome(s):\n",
    "    s_len = [c.lower() for c in s if c.isalnum()]\n",
    "    return s_len == s_len[::-1]\n",
    "\n",
    "s = \"madam\"\n",
    "print(palindrome(s))"
   ]
  },
  {
   "cell_type": "code",
   "execution_count": 4,
   "id": "10b8d714",
   "metadata": {},
   "outputs": [
    {
     "name": "stdout",
     "output_type": "stream",
     "text": [
      "['abcd', 'bcde']\n"
     ]
    }
   ],
   "source": [
    "def longest_substring(s,k):\n",
    "    result =[]\n",
    "    for i in range(len(s)-k+1):\n",
    "        result.append(s[i:i+k])\n",
    "        \n",
    "    return result\n",
    "s =\"abcde\"\n",
    "\n",
    "print(longest_substring(s,4))"
   ]
  },
  {
   "cell_type": "markdown",
   "id": "c12251d4",
   "metadata": {},
   "source": [
    "def two_sum(arr,k):\n",
    "    left = 0\n",
    "    right = len(arr)-1\n",
    "    while left<=right:\n",
    "        if arr[left]+arr[right] == k:\n",
    "            return left,right\n",
    "        elif arr[left]+arr[right] > k:\n",
    "            right -=1\n",
    "        else:\n",
    "            left +=1\n",
    "    return -1\n",
    "    \n",
    "arr = [3,4,5,6,7,8,9]\n",
    "print(two_sum(arr,7))"
   ]
  },
  {
   "cell_type": "markdown",
   "id": "f637d799",
   "metadata": {},
   "source": [
    "# remove duplicate characters from string"
   ]
  },
  {
   "cell_type": "code",
   "execution_count": 7,
   "id": "a0acab4a",
   "metadata": {},
   "outputs": [
    {
     "name": "stdout",
     "output_type": "stream",
     "text": [
      "helo\n"
     ]
    }
   ],
   "source": [
    "def remove_char(s):\n",
    "    seen = set()\n",
    "    result = []\n",
    "    for char in s:\n",
    "        if char not in seen:\n",
    "            seen.add(char)\n",
    "            result.append(char)\n",
    "    return ''.join(result)\n",
    "s = 'hello'\n",
    "print(remove_char(s))"
   ]
  },
  {
   "cell_type": "markdown",
   "id": "392b9026",
   "metadata": {},
   "source": [
    "# count vowel and consonants in string"
   ]
  },
  {
   "cell_type": "code",
   "execution_count": 8,
   "id": "07f0c800",
   "metadata": {},
   "outputs": [
    {
     "name": "stdout",
     "output_type": "stream",
     "text": [
      "(3, 4)\n"
     ]
    }
   ],
   "source": [
    "def count_vowel(s):\n",
    "    vowels = set('AEIOUaeiou')\n",
    "    vowel_count = 0\n",
    "    const_count = 0\n",
    "    \n",
    "    for char in s:\n",
    "        if char.isalpha():\n",
    "            if char in vowels:\n",
    "                vowel_count+=1\n",
    "            else:\n",
    "                const_count +=1\n",
    "    return vowel_count,const_count\n",
    "s = \"Appleis\"\n",
    "print(count_vowel(s))"
   ]
  },
  {
   "cell_type": "markdown",
   "id": "30e9bc38",
   "metadata": {},
   "source": [
    "# Return first no repeating character in a string"
   ]
  },
  {
   "cell_type": "code",
   "execution_count": 9,
   "id": "ce723b34",
   "metadata": {},
   "outputs": [
    {
     "name": "stdout",
     "output_type": "stream",
     "text": [
      "a\n"
     ]
    }
   ],
   "source": [
    "from collections import Counter\n",
    "\n",
    "def count_non(s):\n",
    "    \n",
    "    char_count = Counter(s)\n",
    "    for char in s:\n",
    "        if char_count[char]==1:\n",
    "            return char\n",
    "    return None\n",
    "s = 'abcbc'\n",
    "print(count_non(s))"
   ]
  },
  {
   "cell_type": "markdown",
   "id": "b54ebe4d",
   "metadata": {},
   "source": [
    "# Find longest substring"
   ]
  },
  {
   "cell_type": "code",
   "execution_count": 4,
   "id": "6e376635",
   "metadata": {},
   "outputs": [
    {
     "name": "stdout",
     "output_type": "stream",
     "text": [
      "4\n"
     ]
    }
   ],
   "source": [
    "def long_substr(s):\n",
    "    charset = set()\n",
    "    left = 0\n",
    "    max_len = 0\n",
    "    for right in range(len(s)):\n",
    "        while s[right] in charset:\n",
    "            charset.remove(s[left])\n",
    "            left+=1\n",
    "        charset.add(s[right])\n",
    "        \n",
    "        max_len = max(max_len,right-left+1)\n",
    "    return max_len\n",
    "s = \"abcdabcabc\"\n",
    "print(long_substr(s))"
   ]
  },
  {
   "cell_type": "code",
   "execution_count": 1,
   "id": "f358ded6",
   "metadata": {},
   "outputs": [
    {
     "name": "stdout",
     "output_type": "stream",
     "text": [
      "4\n"
     ]
    }
   ],
   "source": [
    "def linear_search(arr,target):\n",
    "    for i in range(len(arr)):\n",
    "        if arr[i] == target:\n",
    "            return i\n",
    "    return -1\n",
    "\n",
    "\n",
    "arr1 = [3,5,7,9,11]\n",
    "print(linear_search(arr1,11))"
   ]
  },
  {
   "cell_type": "markdown",
   "id": "15db443b",
   "metadata": {},
   "source": [
    "# Return all substrings from string"
   ]
  },
  {
   "cell_type": "code",
   "execution_count": 7,
   "id": "61ad5e7f",
   "metadata": {},
   "outputs": [
    {
     "name": "stdout",
     "output_type": "stream",
     "text": [
      "a\n",
      "ab\n",
      "abc\n",
      "abcd\n",
      "abcde\n",
      "abcdef\n",
      "b\n",
      "bc\n",
      "bcd\n",
      "bcde\n",
      "bcdef\n",
      "c\n",
      "cd\n",
      "cde\n",
      "cdef\n",
      "d\n",
      "de\n",
      "def\n",
      "e\n",
      "ef\n",
      "f\n",
      "None\n"
     ]
    }
   ],
   "source": [
    "def sub_string(s):\n",
    "    for i in range(len(s)):\n",
    "        for j in range(i,len(s)):\n",
    "            print(s[i:j+1])\n",
    "    return None\n",
    "s= \"abcdef\"\n",
    "print(sub_string(s))"
   ]
  },
  {
   "cell_type": "markdown",
   "id": "6e68d7f0",
   "metadata": {},
   "source": [
    "# Find Longest common prefix"
   ]
  },
  {
   "cell_type": "code",
   "execution_count": 13,
   "id": "c6baf8bb",
   "metadata": {},
   "outputs": [
    {
     "name": "stdout",
     "output_type": "stream",
     "text": [
      "flow\n"
     ]
    }
   ],
   "source": [
    "def long_prefix(strs):\n",
    "    prefix = strs[0]\n",
    "    for word in strs[1:]:\n",
    "        while not word.startswith(prefix):\n",
    "            prefix = prefix[:-1]\n",
    "    return prefix\n",
    "\n",
    "strs = [\"flower\",\"flow\"]\n",
    "print(long_prefix(strs))"
   ]
  },
  {
   "cell_type": "code",
   "execution_count": 12,
   "id": "dd79a415",
   "metadata": {},
   "outputs": [
    {
     "name": "stdout",
     "output_type": "stream",
     "text": [
      "flow\n"
     ]
    }
   ],
   "source": [
    "def long_prefix(strs):\n",
    "    if not strs:\n",
    "        return \"\"\n",
    "    \n",
    "    prefix = strs[0]\n",
    "    for word in strs[1:]:\n",
    "        while not word.startswith(prefix):\n",
    "            prefix = prefix[:-1]\n",
    "            if not prefix:\n",
    "                return \"\"\n",
    "    return prefix\n",
    "strs = [\"flower\",\"flow\"]\n",
    "print(long_prefix(strs))"
   ]
  },
  {
   "cell_type": "code",
   "execution_count": null,
   "id": "da3e2f71",
   "metadata": {},
   "outputs": [],
   "source": []
  }
 ],
 "metadata": {
  "kernelspec": {
   "display_name": "Python [conda env:root] *",
   "language": "python",
   "name": "conda-root-py"
  },
  "language_info": {
   "codemirror_mode": {
    "name": "ipython",
    "version": 3
   },
   "file_extension": ".py",
   "mimetype": "text/x-python",
   "name": "python",
   "nbconvert_exporter": "python",
   "pygments_lexer": "ipython3",
   "version": "3.8.20"
  }
 },
 "nbformat": 4,
 "nbformat_minor": 5
}
